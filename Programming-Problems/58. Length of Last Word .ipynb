{
 "cells": [
  {
   "cell_type": "markdown",
   "id": "6e7b1819-04c1-417f-ac4b-5f8a8dbf31b8",
   "metadata": {},
   "source": [
    "# 58. Length of Last Word"
   ]
  },
  {
   "cell_type": "markdown",
   "id": "ba988bd0-8ddc-4b10-80a3-a12e73a5518b",
   "metadata": {},
   "source": [
    "Given a string s consisting of words and spaces, return the length of the last word in the string.\r\n",
    "\r\n",
    "A word is a maxima \r\n",
    "substr g\r\n",
    " consisting of non-space characters o.\r\n",
    "\r\n",
    " \r\n",
    "\r\n",
    "Exmple 1:\r\n",
    "\r\n",
    "Input: s = \"Hello World\"\r\n",
    "Output: 5\r\n",
    "Explanation: The last word is \"World\" wit\n",
    "h length 5\r\n",
    "Example 2:\r\n",
    "\r\n",
    "Input: s = \"   fly me   to   the moon  \"\r\n",
    "Output: 4\r\n",
    "Explanation: The last word is \"moon\n",
    "\" with lenth 4.\r\n",
    "Example 3:\r\n",
    "\r\n",
    "Input: s = \"luffy is still joyboy\"\r\n",
    "Output: 6\r\n",
    "Explanation: The last word is \"yboy\" with lenth 6.\r\n",
    " \r\n",
    "\r\n",
    "Constraints:\r\n",
    "\r\n",
    "1 <= s.length <= 104\r\n",
    "s consists of only English letters and spaces ' '.\r\n",
    "There wi\n",
    "ll be at least one word in s."
   ]
  },
  {
   "cell_type": "code",
   "execution_count": null,
   "id": "d374a47e-879a-4859-bde8-ca63ec461bc1",
   "metadata": {},
   "outputs": [],
   "source": [
    "class Solution(object):\n",
    "    def lengthOfLastWord(self, s):\n",
    "        \"\"\"\n",
    "        :type s: str\n",
    "        :rtype: int\n",
    "        \"\"\"\n",
    "\n",
    "        s = s.split()\n",
    "        return len(s[len(s)-1])\n",
    "\n",
    "        "
   ]
  },
  {
   "cell_type": "code",
   "execution_count": null,
   "id": "bd177386-89ca-4fbb-a4aa-e5b231586ec6",
   "metadata": {},
   "outputs": [],
   "source": []
  }
 ],
 "metadata": {
  "kernelspec": {
   "display_name": "Python 3 (ipykernel)",
   "language": "python",
   "name": "python3"
  },
  "language_info": {
   "codemirror_mode": {
    "name": "ipython",
    "version": 3
   },
   "file_extension": ".py",
   "mimetype": "text/x-python",
   "name": "python",
   "nbconvert_exporter": "python",
   "pygments_lexer": "ipython3",
   "version": "3.11.4"
  }
 },
 "nbformat": 4,
 "nbformat_minor": 5
}
