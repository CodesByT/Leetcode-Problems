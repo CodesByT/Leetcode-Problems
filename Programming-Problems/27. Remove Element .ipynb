{
 "cells": [
  {
   "cell_type": "markdown",
   "id": "b40aa176-22dd-44c0-83af-1b031e59bfb5",
   "metadata": {},
   "source": [
    "## 27. Remove Element"
   ]
  },
  {
   "cell_type": "markdown",
   "id": "289a10d9-d889-4e3b-bc93-62edf215a577",
   "metadata": {},
   "source": [
    "Given an integer array nums and an integer val, remove all occurrences of val in nums in-place. The order of the elements may be changed. Then return the number of elements in nums which are not equal to val.\r\n",
    "\r\n",
    "Consider the number of elements in nums which are not equal to val be k, to get accepted, you need to do the following things:\r\n",
    "\r\n",
    "Change the array nums such that the first k elements of nums contain the elements which are not equal to val. The remaining elements of nums are not important as well as the size of nums.\r\n",
    "Return k.\r\n",
    "Custom Judge:\r\n",
    "\r\n",
    "The judge will test your solution with the following code:\r\n",
    "\r\n",
    "int[] nums = [...]; // Input array\r\n",
    "int val = ...; // Value to remove\r\n",
    "int[] expectedNums = [...]; // The expected answer with correct length.\r\n",
    "                            // It is sorted with no values equaling val.\r\n",
    "\r\n",
    "int k = removeElement(nums, val); // Calls your implementation\r\n",
    "\r\n",
    "assert k == expectedNums.length;\r\n",
    "sort(nums, 0, k); // Sort the first k elements of nums\r\n",
    "for (int i = 0; i < actualLength; i++) {\r\n",
    "    assert nums[i] == expectedNums[i];\r\n",
    "}\r\n",
    "If all assertions pass, then your solution will be accepted.\r\n",
    "\r\n",
    " \r\n",
    "\r\n",
    "Example 1:\r\n",
    "\r\n",
    "Input: nums = [3,2,2,3], val = 3\r\n",
    "Output: 2, nums = [2,2,_,_]\r\n",
    "Explanation: Your function should return k = 2, with the first two elements of nums being 2.\r\n",
    "It does not matter what you leave beyond the returned k (hence they are underscores).\r\n",
    "Example 2:\r\n",
    "\r\n",
    "Input: nums = [0,1,2,2,3,0,4,2], val = 2\r\n",
    "Output: 5, nums = [0,1,4,0,3,_,_,_]\r\n",
    "Explanation: Your function should return k = 5, with the first five elements of nums containing 0, 0, 1, 3, and 4.\r\n",
    "Note that the five elements can be returned in any order.\r\n",
    "It does not matter what you leave beyond the returned k (hence they are underscores).\r\n",
    " \r\n",
    "\r\n",
    "Constraints:\r\n",
    "\r\n",
    "0 <= nums.length <= 100\r\n",
    "0 <= nums[i] <= 50\r\n",
    "0 <= val <= 100"
   ]
  },
  {
   "cell_type": "code",
   "execution_count": null,
   "id": "98081492-94d7-4a74-98f9-ab2f6c282cd5",
   "metadata": {},
   "outputs": [],
   "source": [
    "class Solution(object):\n",
    "    \n",
    "    def removeElement(self, nums, val):\n",
    "        \"\"\"\n",
    "        :type nums: List[int]\n",
    "        :type val: int\n",
    "        :rtype: int\n",
    "        \"\"\"\n",
    "        # nums = [i for i in nums if i != val]\n",
    "        \n",
    "        bro = len(nums)\n",
    "        iterator = 0\n",
    "        while iterator < bro:\n",
    "            if nums[iterator] == val :\n",
    "                nums.pop(iterator)\n",
    "                bro-=1\n",
    "            else:\n",
    "                iterator+=1\n",
    "\n",
    "        return len(nums)\n",
    "\n"
   ]
  },
  {
   "cell_type": "code",
   "execution_count": null,
   "id": "83984c2f-3b66-4d03-8f0a-ac49e67c542f",
   "metadata": {},
   "outputs": [],
   "source": []
  }
 ],
 "metadata": {
  "kernelspec": {
   "display_name": "Python 3 (ipykernel)",
   "language": "python",
   "name": "python3"
  },
  "language_info": {
   "codemirror_mode": {
    "name": "ipython",
    "version": 3
   },
   "file_extension": ".py",
   "mimetype": "text/x-python",
   "name": "python",
   "nbconvert_exporter": "python",
   "pygments_lexer": "ipython3",
   "version": "3.11.4"
  }
 },
 "nbformat": 4,
 "nbformat_minor": 5
}
