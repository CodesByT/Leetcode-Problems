{
 "cells": [
  {
   "cell_type": "markdown",
   "id": "4a900560-6614-44f7-ba1b-f113ec201229",
   "metadata": {},
   "source": [
    "# 49. Group Anagrams"
   ]
  },
  {
   "cell_type": "markdown",
   "id": "0f23b4a6-07a4-4b66-a9c6-d183be1503a9",
   "metadata": {},
   "source": [
    "Given an array of strings strs, group the anagrams together. You can return the answer in any order.\n",
    "\n",
    "An Anagram is a word or phrase formed by rearranging the letters of a different word or phrase, typically using all the original letters exactly once.\n",
    " \n",
    "\n",
    "Example 1:\n",
    "Input: strs = [\"eat\",\"tea\",\"tan\",\"ate\",\"nat\",\"bat\"]\n",
    "Output: [[\"bat\"],[\"nat\",\"tan\"],[\"ate\",\"eat\",\"tea\"]]\n",
    "\n",
    "Example 2:\n",
    "Input: strs = [\"\"]\n",
    "Output: [[\"\"]]\n",
    "\n",
    "Example 3:\n",
    "Input: strs = [\"a\"]\n",
    "Output: [[\"a\"]]\n",
    " \n",
    "Constraints:\n",
    "\n",
    "1 <= strs.length <= 104\n",
    "0 <= strs[i].length <= 100\n",
    "strs[i] consists of lowercase English letters.\n"
   ]
  },
  {
   "cell_type": "code",
   "execution_count": null,
   "id": "c2d1f61f-df12-440e-a7b6-1dd5c7daa755",
   "metadata": {},
   "outputs": [],
   "source": [
    "\n",
    "class Solution(object):\n",
    "    def groupAnagrams(self, strs):\n",
    "        \n",
    "        \"\"\"\n",
    "        :type strs: List[str]\n",
    "        :rtype: List[List[str]]\n",
    "        \"\"\"\n",
    "        anagram_map = {}\n",
    "        for word in strs:\n",
    "            \n",
    "            sorted_word = ''.join(sorted(word))  # Sorting a word\n",
    "            anagram_map.setdefault(sorted_word, []).append(word) # Putting the values in hashmap\n",
    "        \n",
    "        return list(anagram_map.values())\n",
    "\n",
    "# Solution 2\n",
    "        # output = []\n",
    "        # output.append([strs.pop()])\n",
    "        # for i in range(len(strs)):\n",
    "        #     flag = 0\n",
    "        #     for j in range(len(output)):\n",
    "        #         if checkValidAnagram(strs[i],output[j][0]):\n",
    "        #             output[j].append(strs[i])\n",
    "        #             flag = 1\n",
    "        #     if flag == 0:\n",
    "        #         output.append([strs[i]])\n",
    "        # return output\n",
    "            \n",
    "# def checkValidAnagram(string,string2):\n",
    "#     return sorted(string) == sorted(string2)"
   ]
  },
  {
   "cell_type": "code",
   "execution_count": null,
   "id": "b71b15c1-c466-4c18-ac7c-743f1ee52058",
   "metadata": {},
   "outputs": [],
   "source": []
  }
 ],
 "metadata": {
  "kernelspec": {
   "display_name": "Python 3 (ipykernel)",
   "language": "python",
   "name": "python3"
  },
  "language_info": {
   "codemirror_mode": {
    "name": "ipython",
    "version": 3
   },
   "file_extension": ".py",
   "mimetype": "text/x-python",
   "name": "python",
   "nbconvert_exporter": "python",
   "pygments_lexer": "ipython3",
   "version": "3.11.4"
  }
 },
 "nbformat": 4,
 "nbformat_minor": 5
}
