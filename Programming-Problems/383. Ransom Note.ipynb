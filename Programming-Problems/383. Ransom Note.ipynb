{
 "cells": [
  {
   "cell_type": "markdown",
   "id": "dba58e0e-747e-4721-8d46-9427995dc1c0",
   "metadata": {},
   "source": [
    "# 383. Ransom Note"
   ]
  },
  {
   "cell_type": "markdown",
   "id": "ccbfc7dd-acc0-4747-9e07-2334cd3536ae",
   "metadata": {},
   "source": [
    "Given two strings ransomNote and magazine, return true if ransomNote can be constructed by using the letters from magazine and false otherwise.\n",
    "Each letter in magazine can only be used once in ransomNote.\n",
    "\n",
    "\n",
    "Example 1:\n",
    "Input: ransomNote = \"a\", magazine = \"b\"\n",
    "Output: false\n",
    "\n",
    "Example 2:\n",
    "Input: ransomNote = \"aa\", magazine = \"ab\"\n",
    "Output: false\n",
    "\n",
    "Example 3:\n",
    "Input: ransomNote = \"aa\", magazine = \"aab\"\n",
    "Output: true\n",
    " \n",
    "Constraints:\n",
    "\n",
    "1 <= ransomNote.length, magazine.length <= 105\n",
    "ransomNote and magazine consist of lowercase English letters.\n"
   ]
  },
  {
   "cell_type": "code",
   "execution_count": null,
   "id": "543a4910-9545-4fe8-85f5-b65894a5164c",
   "metadata": {},
   "outputs": [],
   "source": [
    "class Solution(object):\n",
    "    def canConstruct(self, ransomNote, magazine):\n",
    "        \"\"\"\n",
    "        :type ransomNote: str\n",
    "        :type magazine: str\n",
    "        :rtype: bool\n",
    "        \"\"\"\n",
    "        mag =[]\n",
    "        mag[:] = magazine\n",
    "        for i in ransomNote:\n",
    "            if i in mag:\n",
    "                mag.remove(i)\n",
    "            else:\n",
    "                return False\n",
    "        return True\n",
    "        "
   ]
  }
 ],
 "metadata": {
  "kernelspec": {
   "display_name": "Python 3 (ipykernel)",
   "language": "python",
   "name": "python3"
  },
  "language_info": {
   "codemirror_mode": {
    "name": "ipython",
    "version": 3
   },
   "file_extension": ".py",
   "mimetype": "text/x-python",
   "name": "python",
   "nbconvert_exporter": "python",
   "pygments_lexer": "ipython3",
   "version": "3.11.4"
  }
 },
 "nbformat": 4,
 "nbformat_minor": 5
}
