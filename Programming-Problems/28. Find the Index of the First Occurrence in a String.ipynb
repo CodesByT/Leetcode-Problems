{
 "cells": [
  {
   "cell_type": "markdown",
   "id": "286aa685-2b57-4738-8842-a17cf53c31c3",
   "metadata": {},
   "source": [
    "# 28. Find the Index of the First Occurrence in a String"
   ]
  },
  {
   "cell_type": "markdown",
   "id": "f5565efe-6412-4636-bef7-977cf4bae420",
   "metadata": {},
   "source": [
    "Given two strings needle and haystack, return the index of the first occurrence of needle in haystack, or -1 if needle is not part of haystack.\n",
    "\n",
    "Example 1:\n",
    ">Input: haystack = \"sadbutsad\", needle = \"sad\"\n",
    "Output: 0\n",
    "\n",
    "Explanation: \"sad\" occurs at index 0 and 6.\n",
    "The first occurrence is at index 0, so we return 0.\n",
    "\n",
    "Example 2:\n",
    ">Input: haystack = \"leetcode\", needle = \"leeto\"\n",
    "\n",
    "Output:-1\n",
    "\n",
    "Explanation: \"leeto\" did not occur in \"leetcode\", so we return -1.\n",
    " \n",
    "\n",
    "Constraints:\n",
    "\n",
    "> 1 <= haystack.length, needle.length <= 104\n",
    "\n",
    "> haystack and needle consist of only lowercase English characters."
   ]
  },
  {
   "cell_type": "code",
   "execution_count": 1,
   "id": "5e32f904-66df-4a00-b6df-50a7db74db62",
   "metadata": {},
   "outputs": [],
   "source": [
    "class Solution(object):\n",
    "    def strStr(self, haystack, needle):\n",
    "        \"\"\"\n",
    "        :type haystack: str\n",
    "        :type needle: str\n",
    "        :rtype: int\n",
    "        \"\"\"\n",
    "        \n",
    "        j = 0 \n",
    "        i = 0\n",
    "        while i < len(haystack):\n",
    "            if haystack[i] == needle[j]:\n",
    "                j+=1\n",
    "            else:\n",
    "                i -= j\n",
    "                j = 0\n",
    "            if j == len(needle):\n",
    "                return (i-j)+1\n",
    "            i+=1\n",
    "        return -1\n",
    "        \n",
    "        '''\n",
    "        Solution no.2\n",
    "        return haystack.find(needle)\n",
    "        '''  \n",
    "        \n",
    "        "
   ]
  },
  {
   "cell_type": "code",
   "execution_count": null,
   "id": "0348a57f-b044-4427-9365-d3117e81077a",
   "metadata": {},
   "outputs": [],
   "source": []
  }
 ],
 "metadata": {
  "kernelspec": {
   "display_name": "Python 3 (ipykernel)",
   "language": "python",
   "name": "python3"
  },
  "language_info": {
   "codemirror_mode": {
    "name": "ipython",
    "version": 3
   },
   "file_extension": ".py",
   "mimetype": "text/x-python",
   "name": "python",
   "nbconvert_exporter": "python",
   "pygments_lexer": "ipython3",
   "version": "3.11.4"
  }
 },
 "nbformat": 4,
 "nbformat_minor": 5
}
