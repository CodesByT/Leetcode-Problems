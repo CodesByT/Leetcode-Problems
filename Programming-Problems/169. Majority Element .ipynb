{
 "cells": [
  {
   "cell_type": "markdown",
   "id": "1f4836b4-44ea-46d1-a83d-f77eee72b2d4",
   "metadata": {},
   "source": [
    "# 169. Majority Element"
   ]
  },
  {
   "cell_type": "markdown",
   "id": "d76b71bc-0088-463d-afb1-d59dc39efdf1",
   "metadata": {},
   "source": [
    "Given an array nums of size n, return the majority element.\n",
    "\n",
    "The majority element is the element that appears more than ⌊n / 2⌋ times. You may assume that the majority element always exists in the array.\n",
    "\n",
    "Example 1:\n",
    "Input: nums = [3,2,3]\n",
    "Output: 3\n",
    "\n",
    "Example 2:\n",
    "Input: nums = [2,2,1,1,1,2,2]\n",
    "Output: 2\n",
    " \n",
    "Constraints:\n",
    "n == nums.length\n",
    "1 <= n <= 5 * 10^4\n",
    "-10^9 <= nums[i] <= 109"
   ]
  },
  {
   "cell_type": "code",
   "execution_count": null,
   "id": "3fee2601-4bc3-48e1-8e31-3464a89747cb",
   "metadata": {},
   "outputs": [],
   "source": [
    "class Solution(object):\n",
    "    def majorityElement(self, nums):\n",
    "        \"\"\"\n",
    "        :type nums: List[int]\n",
    "        :rtype: int\n",
    "        \"\"\"\n",
    "        # Pass the numbers from this array to a hashTable\n",
    "        # with no. of occurence as there values\n",
    "        hashTable = {} \n",
    "        for i in nums:\n",
    "            if i in hashTable.keys():\n",
    "                hashTable[i] += 1\n",
    "            else:\n",
    "                hashTable[i] = 1\n",
    "\n",
    "        # get the highest value from hashTable\n",
    "        highest = max(hashTable.values())\n",
    "        key_list = [key for key, val in hashTable.items() if val == highest]\n",
    "        # check n/2 occurence\n",
    "        if highest >= (len(nums)/2) and len(key_list) >0:\n",
    "            return key_list[0]\n",
    "        # there can be a case, where only 2 numbers can exist of n/2 occurence \n",
    "         "
   ]
  },
  {
   "cell_type": "code",
   "execution_count": null,
   "id": "93c74b2f-df4b-44dd-b983-0162a9231f60",
   "metadata": {},
   "outputs": [],
   "source": []
  }
 ],
 "metadata": {
  "kernelspec": {
   "display_name": "Python 3 (ipykernel)",
   "language": "python",
   "name": "python3"
  },
  "language_info": {
   "codemirror_mode": {
    "name": "ipython",
    "version": 3
   },
   "file_extension": ".py",
   "mimetype": "text/x-python",
   "name": "python",
   "nbconvert_exporter": "python",
   "pygments_lexer": "ipython3",
   "version": "3.11.4"
  }
 },
 "nbformat": 4,
 "nbformat_minor": 5
}
