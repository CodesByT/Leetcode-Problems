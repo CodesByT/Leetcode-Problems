{
 "cells": [
  {
   "cell_type": "markdown",
   "id": "e31593fe-ce2c-4d7d-87b9-93dbf7af96af",
   "metadata": {},
   "source": [
    "# 26. Remove Duplicates from Sorted Array "
   ]
  },
  {
   "cell_type": "markdown",
   "id": "a8b39706-6cfa-4222-8f92-d1f9119fad4b",
   "metadata": {},
   "source": [
    "Given an integer array nums sorted in non-decreasing order, remove the duplicates in-place such that each unique element appears only once. The relative order of the elements should be kept the same. Then return the number of unique elements in nums.\n",
    "Consider the number of unique elements of nums to be k, to get accepted, you need to do the following things:\n",
    "Change the array nums such that the first k elements of nums contain the unique elements in the order they were present in nums initially. The remaining elements of nums are not important as well as the size of nums.\n",
    "Return k.\n",
    "    \n",
    "Custom Judge:\n",
    "The judge will test your solution with the following code:\n",
    "int[] nums = [...]; // Input array\n",
    "int[] expectedNums = [...]; // The expected answer with correct length\n",
    "\n",
    "int k = removeDuplicates(nums); // Calls your implementation\n",
    "\n",
    "assert k == expectedNums.length;\n",
    "for (int i = 0; i < k; i++) {\n",
    "    assert nums[i] == expectedNums[i];\n",
    "}\n",
    "If all assertions pass, then your solution will be accepted.\n",
    "\n",
    "Example 1:\n",
    "Input: nums = [1,1,2]\n",
    "Output: 2, nums = [1,2,_]\n",
    "Explanation: Your function should return k = 2, with the first two elements of nums being 1 and 2 respectively.\n",
    "It does not matter what you leave beyond the returned k (hence they are underscores).\n",
    "\n",
    "Example 2:\n",
    "Input: nums = [0,0,1,1,1,2,2,3,3,4]\n",
    "Output: 5, nums = [0,1,2,3,4,_,_,_,_,_]\n",
    "Explanation: Your function should return k = 5, with the first five elements of nums being 0, 1, 2, 3, and 4 respectively.\n",
    "It does not matter what you leave beyond the returned k (hence they are underscores).\n",
    " \n",
    "\n",
    "Constraints:\n",
    "1 <= nums.length <= 3 * 104\n",
    "-100 <= nums[i] <= 100\n",
    "nums is sorted in non-decreasing order."
   ]
  },
  {
   "cell_type": "code",
   "execution_count": null,
   "id": "d0fd3cb2-5d84-4660-ad36-0a34cc70168c",
   "metadata": {},
   "outputs": [],
   "source": [
    "class Solution(object):\n",
    "    def removeDuplicates(self, nums):\n",
    "        \"\"\"\n",
    "        :type nums: List[int]\n",
    "        :rtype: int\n",
    "        \"\"\"\n",
    "        bro = len(nums)\n",
    "        iterator = 0  \n",
    "        # while iterator < bro:\n",
    "        #     if iterator+1 != bro:\n",
    "        #         if nums[iterator] == nums[iterator+1]:\n",
    "        #             nums.pop(iterator)\n",
    "        #             bro -= 1\n",
    "        #         else:\n",
    "        #             iterator += 1\n",
    "        #     else:\n",
    "        #         iterator += 1        \n",
    "        while iterator < bro-1:\n",
    "            if nums[iterator] == nums[iterator+1]:\n",
    "                nums.pop(iterator)\n",
    "                bro -= 1\n",
    "            else:\n",
    "                iterator += 1\n",
    "        return len(nums)\n",
    "        "
   ]
  },
  {
   "cell_type": "code",
   "execution_count": null,
   "id": "7850af96-53c7-4d78-a08b-04bcf8db6b3b",
   "metadata": {},
   "outputs": [],
   "source": []
  }
 ],
 "metadata": {
  "kernelspec": {
   "display_name": "Python 3 (ipykernel)",
   "language": "python",
   "name": "python3"
  },
  "language_info": {
   "codemirror_mode": {
    "name": "ipython",
    "version": 3
   },
   "file_extension": ".py",
   "mimetype": "text/x-python",
   "name": "python",
   "nbconvert_exporter": "python",
   "pygments_lexer": "ipython3",
   "version": "3.11.4"
  }
 },
 "nbformat": 4,
 "nbformat_minor": 5
}
