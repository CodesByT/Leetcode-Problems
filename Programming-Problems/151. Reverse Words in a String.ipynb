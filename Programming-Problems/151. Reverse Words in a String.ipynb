{
 "cells": [
  {
   "cell_type": "markdown",
   "id": "9c5b7bc2-51d3-4502-bea6-7df283b1eaf9",
   "metadata": {},
   "source": [
    "# 151. Reverse Words in a String"
   ]
  },
  {
   "cell_type": "markdown",
   "id": "dc9a5294-e533-4375-9408-00066f03202e",
   "metadata": {},
   "source": [
    "Given an input string s, reverse the order of the words.\r\n",
    "\r\n",
    "A word is defined as a sequence of non-space characters. The words in s will be separated by at least one space.\r\n",
    "\r\n",
    "Return a string of the words in reverse order concatenated by a single space.\r\n",
    "\r\n",
    "Note that s may contain leading or trailing spaces or multiple spaces between two words. The returned string should only have a single space separating the words. Do not include any extra spaces.\r\n",
    "\r\n",
    " \r\n",
    "\r\n",
    "Example 1:\r\n",
    "\r\n",
    "Input: s = \"the sky is blue\"\r\n",
    "Output: \"blue is sky the\"\r\n",
    "Example 2:\r\n",
    "\r\n",
    "Input: s = \"  hello world  \"\r\n",
    "Output: \"world hello\"\r\n",
    "Explanation: Your reversed string should not contain leading or trailing spaces.\r\n",
    "Example 3:\r\n",
    "\r\n",
    "Input: s = \"a good   example\"\r\n",
    "Output: \"example good a\"\r\n",
    "Explanation: You need to reduce multiple spaces between two words to a single space in the reversed string.\r\n",
    " \r\n",
    "\r\n",
    "Constraints:\r\n",
    "\r\n",
    "1 <= s.length <= 104\r\n",
    "s contains English letters (upper-case and lower-case), digits, and spaces ' '.\r\n",
    "There is at least one word in shere is at least one word in shere is at least one word in shere is at least one word in s"
   ]
  },
  {
   "cell_type": "code",
   "execution_count": null,
   "id": "f766f18a-96cb-496b-9240-5cdc0531a50e",
   "metadata": {},
   "outputs": [],
   "source": [
    "class Solution(object):\n",
    "    def reverseWords(self, s):\n",
    "        \"\"\"\n",
    "        :type s: str\n",
    "        :rtype: str\n",
    "        \"\"\"\n",
    "        s = s.split()\n",
    "        reverse_s =\"\"\n",
    "        i = len(s)-1\n",
    "        while i >= 0:\n",
    "            reverse_s += s[i]\n",
    "            if i != 0:\n",
    "                reverse_s += \" \"  \n",
    "            i-=1\n",
    "\n",
    "        return reverse_s\n",
    "        \n",
    "        # words=s.strip().split()\n",
    "        # words.reverse()\n",
    "        # return ' '.join(words)\n",
    "        "
   ]
  },
  {
   "cell_type": "code",
   "execution_count": null,
   "id": "37030b36-fe86-4f42-88df-83e829e6b6a6",
   "metadata": {},
   "outputs": [],
   "source": []
  }
 ],
 "metadata": {
  "kernelspec": {
   "display_name": "Python 3 (ipykernel)",
   "language": "python",
   "name": "python3"
  },
  "language_info": {
   "codemirror_mode": {
    "name": "ipython",
    "version": 3
   },
   "file_extension": ".py",
   "mimetype": "text/x-python",
   "name": "python",
   "nbconvert_exporter": "python",
   "pygments_lexer": "ipython3",
   "version": "3.11.4"
  }
 },
 "nbformat": 4,
 "nbformat_minor": 5
}
