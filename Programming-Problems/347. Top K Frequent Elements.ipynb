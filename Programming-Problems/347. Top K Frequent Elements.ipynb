{
 "cells": [
  {
   "cell_type": "markdown",
   "id": "bc2e9304-c68f-42fd-9811-d472f09a29b3",
   "metadata": {},
   "source": [
    "# 347. Top K Frequent Elements"
   ]
  },
  {
   "cell_type": "markdown",
   "id": "870f57ce-756f-4f4f-9429-b317437959df",
   "metadata": {},
   "source": [
    "Given an integer array nums and an integer k, return the k most frequent elements. You may return the answer in any order.\n",
    "\n",
    " \r\n",
    "\r\n",
    "Exampl 1:\r\n",
    "\r\n",
    "Input: nums = [1,1,1,2,2,3], k = 2\r\n",
    "Output:\n",
    " [1,2]\r\n",
    "Exmple 2:\r\n",
    "\r\n",
    "Input: nums = [1], k = 1\r\n",
    "Output: [1]\r\n",
    " \r\n",
    "\n",
    "Constraints:\r\n",
    "\r\n",
    "1 <= nums.length <= 105\r\n",
    "-104 <= nums[i] <= 104\r\n",
    "k is in the range [1, the number of unique elements in the array].\r\n",
    "It is guaranteed that th\n",
    "\n",
    "Follow up: Your algorithm's time complexity must be better than O(n log n), where n is the array's size.e answer is unique."
   ]
  },
  {
   "cell_type": "code",
   "execution_count": null,
   "id": "801949a0-6afb-4edb-ad2b-f5b82f50994b",
   "metadata": {},
   "outputs": [],
   "source": [
    "class Solution(object):\n",
    "    def topKFrequent(self, nums, k):\n",
    "        \"\"\"\n",
    "        :type nums: List[int]\n",
    "        :type k: int\n",
    "        :rtype: List[int]\n",
    "        \"\"\"        \n",
    "        hashmap = {}\n",
    "        for num in nums:\n",
    "            if num in hashmap.keys():\n",
    "                hashmap[num]+=1\n",
    "            else:\n",
    "                hashmap[num]=1\n",
    "        \n",
    "        hashmap = dict(sorted(hashmap.items(),key=lambda keyPair: keyPair[1], reverse= True))\n",
    "\n",
    "        return list(hashmap.keys())[:k]\n",
    "        \n"
   ]
  },
  {
   "cell_type": "code",
   "execution_count": null,
   "id": "75bb0e24-0e58-47f2-afeb-e343cfee3ffc",
   "metadata": {},
   "outputs": [],
   "source": [
    "# 1. Using Reverse Bucket Sort we can get O(N)\n",
    "    # Create the Hashmap\n",
    "# ---------SOLUTION---------\n",
    "# --------------------------\n",
    "\n",
    "# 2. Using a Max Heap we can get the complexity of O(K(Log(N)))\n",
    "# ---------SOLUTION---------\n",
    "# --------------------------\n",
    "\n",
    "# 3. Solution with using Collections library python\n",
    "# ---------SOLUTION---------\n",
    "# counter = Counter(nums)\n",
    "# return [num for num, _ in counter.most_common(k)]\n",
    "# --------------------------"
   ]
  }
 ],
 "metadata": {
  "kernelspec": {
   "display_name": "Python 3 (ipykernel)",
   "language": "python",
   "name": "python3"
  },
  "language_info": {
   "codemirror_mode": {
    "name": "ipython",
    "version": 3
   },
   "file_extension": ".py",
   "mimetype": "text/x-python",
   "name": "python",
   "nbconvert_exporter": "python",
   "pygments_lexer": "ipython3",
   "version": "3.11.4"
  }
 },
 "nbformat": 4,
 "nbformat_minor": 5
}
